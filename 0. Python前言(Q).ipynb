{
 "cells": [
  {
   "cell_type": "markdown",
   "metadata": {
    "slideshow": {
     "slide_type": "slide"
    }
   },
   "source": [
    "## Python 前言\n",
    "\n",
    "\n",
    "### Da-Wei Chiang"
   ]
  },
  {
   "cell_type": "markdown",
   "metadata": {
    "slideshow": {
     "slide_type": "slide"
    }
   },
   "source": [
    "## 大綱\n",
    "\n",
    "- 基本概念\n",
    "- 流程控制\n",
    "- 資料結構\n",
    "- 迴圈\n",
    "- list comprehension\n",
    "- 進階資料結構"
   ]
  },
  {
   "cell_type": "markdown",
   "metadata": {
    "slideshow": {
     "slide_type": "slide"
    }
   },
   "source": [
    "## 基本概念"
   ]
  },
  {
   "cell_type": "markdown",
   "metadata": {
    "slideshow": {
     "slide_type": "subslide"
    }
   },
   "source": [
    "## 變數\n",
    "\n",
    "- 使用英文字母、中文或底線＿開頭\n",
    "- 變數名稱只能以英文字母、中文、數字、底線組成\n",
    "- 大小寫不同將被視為不同變數名稱，如：School, school\n",
    "- 不可使用系統的保留字、內建函數的名稱"
   ]
  },
  {
   "cell_type": "markdown",
   "metadata": {
    "slideshow": {
     "slide_type": "subslide"
    }
   },
   "source": [
    "## 註解\n",
    "\n",
    "- 單行註```＃這是單行註解```\n",
    "- 多行註解```'''這是多行註解'''\n",
    "```"
   ]
  },
  {
   "cell_type": "code",
   "execution_count": null,
   "metadata": {
    "slideshow": {
     "slide_type": "subslide"
    }
   },
   "outputs": [],
   "source": [
    "'''\n",
    "這是聯成電腦python課程\n",
    "註解範例\n",
    "'''\n",
    "weather_min = 13    #儲存新竹最低溫\n",
    "weather_max = 23    #儲存新竹最高溫\n",
    "weather_mean = (weather_min + weather_max)/2   #儲存新竹平均氣溫\n",
    "print(weather_mean) #輸出新竹平均氣溫"
   ]
  },
  {
   "cell_type": "markdown",
   "metadata": {
    "slideshow": {
     "slide_type": "subslide"
    }
   },
   "source": [
    "## 運算子與運算元\n",
    "\n",
    "- 運算子\n",
    "- 指派運算子\n",
    "- 多重指派\n"
   ]
  },
  {
   "cell_type": "code",
   "execution_count": null,
   "metadata": {
    "slideshow": {
     "slide_type": "subslide"
    }
   },
   "outputs": [],
   "source": [
    "# 範例(猜執行結果)\n",
    "\n",
    "num = 10\n",
    "num *= 20\n",
    "print(num)\n",
    "\n",
    "num1, num2 = 100, 200\n",
    "num1+=num2\n",
    "print(num1)\n",
    "print(num2)"
   ]
  },
  {
   "cell_type": "markdown",
   "metadata": {
    "slideshow": {
     "slide_type": "subslide"
    }
   },
   "source": [
    "## 變數的資料型態\n",
    "\n",
    "- 數值資料型態\n",
    "    - 整數型(int)\n",
    "    - 浮點數型(float)\n",
    "- 布林值資料型態\n",
    "- 字串資料型態"
   ]
  },
  {
   "cell_type": "code",
   "execution_count": null,
   "metadata": {
    "slideshow": {
     "slide_type": "subslide"
    }
   },
   "outputs": [],
   "source": [
    "# 範例(猜執行結果)\n",
    "\n",
    "my_int = 50\n",
    "my_float = my_int/3\n",
    "print(my_int)\n",
    "print(my_float)\n",
    "my_bool = bool(my_float)\n",
    "print(my_bool)\n",
    "my_str = str(my_int)+str(my_float)\n",
    "print(my_str)\n",
    "num1 = my_str*2\n",
    "print(num1)\n",
    "num2 = my_str/2\n",
    "print(num2)"
   ]
  },
  {
   "cell_type": "markdown",
   "metadata": {
    "slideshow": {
     "slide_type": "subslide"
    }
   },
   "source": [
    "## 特殊字元\n",
    "\n",
    "- 跳脫字元\n",
    "- 換行字元\n",
    "- Tab字元"
   ]
  },
  {
   "cell_type": "code",
   "execution_count": 8,
   "metadata": {
    "slideshow": {
     "slide_type": "subslide"
    }
   },
   "outputs": [
    {
     "name": "stdout",
     "output_type": "stream",
     "text": [
      "I'm loving it.\n",
      "Dear sir\n",
      " This is meeting .....\n"
     ]
    }
   ],
   "source": [
    "# 範例\n",
    "Mcdonald = 'I\\'m loving it.'\n",
    "e_mail = 'Dear sir\\n This is meeting .....'\n",
    "print(Mcdonald)\n",
    "print(e_mail)\n"
   ]
  },
  {
   "cell_type": "markdown",
   "metadata": {
    "slideshow": {
     "slide_type": "subslide"
    }
   },
   "source": [
    "## 格式化輸出\n",
    "\n",
    "- 整數\n",
    "- 浮點數\n",
    "- 字串\n"
   ]
  },
  {
   "cell_type": "code",
   "execution_count": null,
   "metadata": {
    "slideshow": {
     "slide_type": "subslide"
    }
   },
   "outputs": [],
   "source": [
    "# 範例(猜執行結果)\n",
    "my_list = [1, 2, 3, 4, 5]\n",
    "my_int = 1\n",
    "my_float = 2.5\n",
    "my_bool = False\n",
    "\n",
    "print(\"my_int = %d\" %my_int)\n",
    "print(\"my_float = %d\" %my_float)\n",
    "print(\"my_bool = %d\" %my_bool)\n",
    "print(\"my_list = %d\" %my_list)\n",
    "print(\"my_int = %f\" %my_int)\n",
    "print(\"my_float = %f\" %my_float)\n",
    "print(\"my_bool = %f\" %my_bool)\n",
    "print(\"my_list = %f\" %my_list)\n",
    "print(\"my_int = %s\" %my_int)\n",
    "print(\"my_float = %s\" %my_float)\n",
    "print(\"my_bool = %s\" %my_bool)\n",
    "print(\"my_list = %s\" %my_list)"
   ]
  },
  {
   "cell_type": "markdown",
   "metadata": {
    "slideshow": {
     "slide_type": "subslide"
    }
   },
   "source": [
    "## format格式化輸出\n",
    "\n",
    "- 使用方法\n",
    "    - 將預放變數名稱的地方挖空以{}取代\n",
    "    - 欲輸出的文字後接.format()，並放入變數名稱"
   ]
  },
  {
   "cell_type": "code",
   "execution_count": 16,
   "metadata": {
    "slideshow": {
     "slide_type": "subslide"
    }
   },
   "outputs": [
    {
     "name": "stdout",
     "output_type": "stream",
     "text": [
      "這是 15 個小時的 python基礎課程\n"
     ]
    }
   ],
   "source": [
    "classname = \"python基礎課程\"\n",
    "hours = 15\n",
    "\n",
    "print(\"這是 {} 個小時的 {}\".format(hours, classname))"
   ]
  },
  {
   "cell_type": "markdown",
   "metadata": {
    "slideshow": {
     "slide_type": "subslide"
    }
   },
   "source": [
    "## 輸入函數\n",
    "\n",
    "```python\n",
    "variable = input(\"show string\")\n",
    "```"
   ]
  },
  {
   "cell_type": "markdown",
   "metadata": {
    "slideshow": {
     "slide_type": "slide"
    }
   },
   "source": [
    "## 流程控制"
   ]
  },
  {
   "cell_type": "markdown",
   "metadata": {
    "slideshow": {
     "slide_type": "subslide"
    }
   },
   "source": [
    "## 關係運算子\n",
    "\n",
    "- 大於\n",
    "- 大於等於\n",
    "- 小於\n",
    "- 小於等於\n",
    "- 等於\n",
    "- 不等於"
   ]
  },
  {
   "cell_type": "code",
   "execution_count": 19,
   "metadata": {
    "slideshow": {
     "slide_type": "subslide"
    }
   },
   "outputs": [
    {
     "name": "stdout",
     "output_type": "stream",
     "text": [
      "True\n",
      "True\n",
      "False\n",
      "False\n",
      "False\n",
      "True\n"
     ]
    }
   ],
   "source": [
    "print(10<20)\n",
    "print(10<=20)\n",
    "print(10>20)\n",
    "print(10>=20)\n",
    "print(10==20)\n",
    "print(10!=20)"
   ]
  },
  {
   "cell_type": "markdown",
   "metadata": {
    "slideshow": {
     "slide_type": "subslide"
    }
   },
   "source": [
    "## 邏輯運算子\n",
    "\n",
    "- and\n",
    "- or\n",
    "- not"
   ]
  },
  {
   "cell_type": "code",
   "execution_count": null,
   "metadata": {
    "slideshow": {
     "slide_type": "subslide"
    }
   },
   "outputs": [],
   "source": [
    "# 範例(猜執行結果)\n",
    "\n",
    "print(True or False and False)\n",
    "print(not False or True)\n",
    "print(True or not (False and False))"
   ]
  },
  {
   "cell_type": "markdown",
   "metadata": {
    "slideshow": {
     "slide_type": "subslide"
    }
   },
   "source": [
    "## if 敘述\n",
    "\n",
    "```python\n",
    "    if(條件判斷式):\n",
    "        程式區塊\n",
    "```\n",
    "說明：當條件判斷式成立(True)，執行程式區塊"
   ]
  },
  {
   "cell_type": "markdown",
   "metadata": {
    "slideshow": {
     "slide_type": "subslide"
    }
   },
   "source": [
    "## if ... else 敘述\n",
    "```python\n",
    "    if(條件判斷式)：\n",
    "        程式區塊一\n",
    "    else：\n",
    "        程式區塊二\n",
    "```\n",
    "說明：當if條件判斷式成立(True)執行程式區塊一，否則執行程式區塊二"
   ]
  },
  {
   "cell_type": "markdown",
   "metadata": {
    "slideshow": {
     "slide_type": "subslide"
    }
   },
   "source": [
    "## if ... elif ... else 敘述\n",
    "```python \n",
    "    if(條件判斷式一)：\n",
    "        程式區塊一\n",
    "    elif(條件判斷式二)：\n",
    "        程式區塊二\n",
    "    ...\n",
    "    ...\n",
    "    else：\n",
    "        程式區塊三\n",
    "```\n",
    "說明：當條件判斷式一成立(True)執行程式區塊一，否則判斷條件判斷式二是否成立(True)若成立則執行程式區塊二、若不成立(False)執行程式區塊三"
   ]
  },
  {
   "cell_type": "markdown",
   "metadata": {
    "slideshow": {
     "slide_type": "subslide"
    }
   },
   "source": [
    "## 練習\n",
    "\n",
    "- 請使用者輸入身高、體重\n",
    "- 計算使用者的ＢＭＩ\n",
    "    - ```>30``` 為 肥胖\n",
    "    - ```25~30``` 為 過重\n",
    "    - ```18.5~25``` 為 正常\n",
    "    - ```<18.5``` 為 過輕\n",
    "- 請輸出使用者的ＢＭＩ落於哪個範圍"
   ]
  },
  {
   "cell_type": "markdown",
   "metadata": {
    "slideshow": {
     "slide_type": "subslide"
    }
   },
   "source": [
    "## 練習\n",
    "\n",
    "- 請使用者輸入一個數\n",
    "    - 若使用者輸入負數則輸出請輸入正整數的字樣\n",
    "    - 若輸入的數為2的倍數，輸出2的倍數\n",
    "    - 若輸入的數為5的倍數，輸出5的倍數\n",
    "    - 若輸入的數為10的倍數，輸出10的倍數\n",
    "    - 其他則輸出該數"
   ]
  },
  {
   "cell_type": "markdown",
   "metadata": {
    "slideshow": {
     "slide_type": "slide"
    }
   },
   "source": [
    "## list 資料結構"
   ]
  },
  {
   "cell_type": "markdown",
   "metadata": {
    "slideshow": {
     "slide_type": "subslide"
    }
   },
   "source": [
    "## list結構基礎\n",
    "```python\n",
    "# 建構list\n",
    "variable ＝ [data]\n",
    "#list 取值\n",
    "variable[index]\n",
    "```"
   ]
  },
  {
   "cell_type": "markdown",
   "metadata": {
    "slideshow": {
     "slide_type": "subslide"
    }
   },
   "source": [
    "## list切片\n",
    "\n",
    "```\n",
    "list[start:end]\n",
    "list[:]\n",
    "list[:n]\n",
    "list[n:]\n",
    "list[-n:]\n",
    "list[start:end:step]\n",
    "```"
   ]
  },
  {
   "cell_type": "code",
   "execution_count": null,
   "metadata": {
    "slideshow": {
     "slide_type": "subslide"
    }
   },
   "outputs": [],
   "source": [
    "# 範例(猜執行結果)\n",
    "\n",
    "num = [1, 2, 3, 4, 5, 6, 7]\n",
    "print(num[:3:2])\n",
    "print(num[::-1])\n",
    "print(num[-3::])\n",
    "print(num[-3::-1])\n",
    "print(num[-3:-5:])\n",
    "print(num[-3:-5:-1])\n",
    "print(num[::-2])"
   ]
  },
  {
   "cell_type": "markdown",
   "metadata": {
    "slideshow": {
     "slide_type": "subslide"
    }
   },
   "source": [
    "## 字串的切片\n",
    "\n",
    "- 字串在python中被視為字串list，因此可以對於字串使用list"
   ]
  },
  {
   "cell_type": "code",
   "execution_count": 28,
   "metadata": {},
   "outputs": [
    {
     "name": "stdout",
     "output_type": "stream",
     "text": [
      "This \n",
      "is\n",
      ".elpmaxE ecilS gnirtS si sihT\n"
     ]
    }
   ],
   "source": [
    "# 範例\n",
    "\n",
    "my_str = \"This is String Slice Example.\"\n",
    "\n",
    "print(my_str[:5])\n",
    "print(my_str[5:7])\n",
    "print(my_str[::-1])"
   ]
  },
  {
   "cell_type": "markdown",
   "metadata": {
    "slideshow": {
     "slide_type": "subslide"
    }
   },
   "source": [
    "## list 搭配函數\n",
    "\n",
    "- len(list)\n",
    "- max(list)\n",
    "- min(list)\n",
    "- sum(list)"
   ]
  },
  {
   "cell_type": "code",
   "execution_count": null,
   "metadata": {
    "slideshow": {
     "slide_type": "subslide"
    }
   },
   "outputs": [],
   "source": [
    "# 範例(猜執行結果)\n",
    "\n",
    "num = [\"1\", 2, \"3\", 4, \"5\"]\n",
    "print(len(num))\n",
    "print(max(num))\n",
    "print(min(num))\n",
    "print(sum(num))"
   ]
  },
  {
   "cell_type": "code",
   "execution_count": 40,
   "metadata": {
    "slideshow": {
     "slide_type": "subslide"
    }
   },
   "outputs": [
    {
     "name": "stdout",
     "output_type": "stream",
     "text": [
      "[1, 2, 3, 4, 5, 6]\n",
      "[1, 2, 3, 1, 2, 3]\n"
     ]
    }
   ],
   "source": [
    "## list加與乘範例\n",
    "\n",
    "my_list1 = [1, 2, 3]\n",
    "my_list2 = [4, 5, 6]\n",
    "my_list3 = my_list1 + my_list2\n",
    "print(my_list3)\n",
    "print(my_list1*2)"
   ]
  },
  {
   "cell_type": "markdown",
   "metadata": {
    "slideshow": {
     "slide_type": "subslide"
    }
   },
   "source": [
    "## 串列的新增與刪除\n",
    "\n",
    "```\n",
    "list.append()\n",
    "list.insert()\n",
    "list.pop()\n",
    "list.remove()\n",
    "```"
   ]
  },
  {
   "cell_type": "code",
   "execution_count": 3,
   "metadata": {
    "slideshow": {
     "slide_type": "subslide"
    }
   },
   "outputs": [
    {
     "name": "stdout",
     "output_type": "stream",
     "text": [
      "[0, 1]\n",
      "[2, 0, 1]\n",
      "[2, 0]\n",
      "1\n",
      "[0]\n"
     ]
    }
   ],
   "source": [
    "#範例\n",
    "num = [0]\n",
    "num.append(1)\n",
    "print(num)\n",
    "num.insert(0, 2)\n",
    "print(num)\n",
    "pop_num = num.pop()\n",
    "print(num)\n",
    "print(pop_num)\n",
    "num.remove(2)\n",
    "print(num)"
   ]
  },
  {
   "cell_type": "markdown",
   "metadata": {
    "slideshow": {
     "slide_type": "subslide"
    }
   },
   "source": [
    "## list的排序\n",
    "\n",
    " ```\n",
    "    list.sort()\n",
    "    list.sort(reverse=True)\n",
    "    other_list = sorted(list)\n",
    "    other_list = sorted(list, reverse=True)\n",
    " ```"
   ]
  },
  {
   "cell_type": "code",
   "execution_count": null,
   "metadata": {
    "slideshow": {
     "slide_type": "subslide"
    }
   },
   "outputs": [],
   "source": [
    "# 範例(猜執行結果)\n",
    "a = [2, 1, 4, 3, 5]\n",
    "print(a)\n",
    "print(a.sort())"
   ]
  },
  {
   "cell_type": "markdown",
   "metadata": {
    "slideshow": {
     "slide_type": "slide"
    }
   },
   "source": [
    "## 迴圈"
   ]
  },
  {
   "cell_type": "markdown",
   "metadata": {
    "slideshow": {
     "slide_type": "subslide"
    }
   },
   "source": [
    "## 基礎for 迴圈\n",
    "\n",
    "```\n",
    "for value in list:\n",
    "    print(value)\n",
    "```"
   ]
  },
  {
   "cell_type": "code",
   "execution_count": 2,
   "metadata": {
    "slideshow": {
     "slide_type": "subslide"
    }
   },
   "outputs": [
    {
     "name": "stdout",
     "output_type": "stream",
     "text": [
      "1\n",
      "2\n",
      "3\n",
      "4\n"
     ]
    }
   ],
   "source": [
    "# 範例\n",
    "num = [1, 2, 3, 4]\n",
    "for i in num:\n",
    "    print(i)"
   ]
  },
  {
   "cell_type": "markdown",
   "metadata": {
    "slideshow": {
     "slide_type": "subslide"
    }
   },
   "source": [
    "## range函數\n",
    "\n",
    "- range(number)\n",
    "- range(start, end)\n",
    "- range(start, end, step)"
   ]
  },
  {
   "cell_type": "code",
   "execution_count": 6,
   "metadata": {
    "slideshow": {
     "slide_type": "subslide"
    }
   },
   "outputs": [
    {
     "name": "stdout",
     "output_type": "stream",
     "text": [
      "[0, 1, 2]\n",
      "[5, 6, 7, 8, 9]\n",
      "[]\n"
     ]
    }
   ],
   "source": [
    "# 範例(猜執行結果)\n",
    "\n",
    "n1 = list(range(3))\n",
    "n2 = list(range(5, 10))\n",
    "n3 = list(range(1, 10, -1))\n",
    "print(n1)\n",
    "print(n2)\n",
    "print(n3)"
   ]
  },
  {
   "cell_type": "markdown",
   "metadata": {
    "slideshow": {
     "slide_type": "subslide"
    }
   },
   "source": [
    "## list 搭配range函數\n",
    "\n",
    "```python\n",
    "for index in range(start, end, step):\n",
    "    print(index)\n",
    "```"
   ]
  },
  {
   "cell_type": "code",
   "execution_count": 3,
   "metadata": {
    "slideshow": {
     "slide_type": "subslide"
    }
   },
   "outputs": [
    {
     "name": "stdout",
     "output_type": "stream",
     "text": [
      "1 2 3 4 5 "
     ]
    }
   ],
   "source": [
    "## 範例 \n",
    "\n",
    "num = [1, 2, 3, 4, 5]\n",
    "\n",
    "for i in range(len(num)):\n",
    "    print(num[i], end=\" \")"
   ]
  },
  {
   "cell_type": "markdown",
   "metadata": {
    "slideshow": {
     "slide_type": "subslide"
    }
   },
   "source": [
    "## list comprehension\n",
    "\n",
    "- for迴圈append到list中可以有更簡潔的寫法\n",
    "\n",
    "```\n",
    "variable = [expression for value in iterator]\n",
    "```"
   ]
  },
  {
   "cell_type": "code",
   "execution_count": 12,
   "metadata": {
    "slideshow": {
     "slide_type": "subslide"
    }
   },
   "outputs": [
    {
     "name": "stdout",
     "output_type": "stream",
     "text": [
      "[0, 1, 2, 3, 4, 5, 6, 7, 8, 9]\n"
     ]
    }
   ],
   "source": [
    "## 範例 (以往的寫法)\n",
    "\n",
    "num = []\n",
    "\n",
    "for i in range(10):\n",
    "    num.append(i)\n",
    "print(num)"
   ]
  },
  {
   "cell_type": "code",
   "execution_count": 13,
   "metadata": {
    "slideshow": {
     "slide_type": "subslide"
    }
   },
   "outputs": [
    {
     "name": "stdout",
     "output_type": "stream",
     "text": [
      "[0, 1, 2, 3, 4, 5, 6, 7, 8, 9]\n"
     ]
    }
   ],
   "source": [
    "# 範例(list comprehension)\n",
    "\n",
    "num = [i for i in range(10)]\n",
    "print(num)"
   ]
  },
  {
   "cell_type": "markdown",
   "metadata": {
    "slideshow": {
     "slide_type": "subslide"
    }
   },
   "source": [
    "## 練習\n",
    "\n",
    "- 使用list comprehension\n",
    "- 以for迴圈跑數值```1~20```，將```7~26```新增到num list中"
   ]
  },
  {
   "cell_type": "markdown",
   "metadata": {
    "slideshow": {
     "slide_type": "subslide"
    }
   },
   "source": [
    "## 練習 - 動腦想想動手試試\n",
    "\n",
    "- 如何使用```list comprehension```建構一個```list```包含```list```的元素\n",
    "- 例：\n",
    "    ```[[1, 2], [1, 2]]```"
   ]
  },
  {
   "cell_type": "markdown",
   "metadata": {
    "slideshow": {
     "slide_type": "subslide"
    }
   },
   "source": [
    "## list comprehension 搭配 if判斷式\n",
    "\n",
    "```\n",
    "variable = [expression for value in iterator if expression]\n",
    "```"
   ]
  },
  {
   "cell_type": "code",
   "execution_count": 22,
   "metadata": {
    "slideshow": {
     "slide_type": "subslide"
    }
   },
   "outputs": [
    {
     "name": "stdout",
     "output_type": "stream",
     "text": [
      "[0, 2, 4, 6, 8, 10, 12, 14, 16, 18]\n",
      "[0, 2, 4, 6, 8, 10, 12, 14, 16, 18]\n"
     ]
    }
   ],
   "source": [
    "# 範例\n",
    "\n",
    "# 以往寫法\n",
    "even = []\n",
    "for i in range(20):\n",
    "    if(i%2==0):\n",
    "        even.append(i)\n",
    "print(even)\n",
    "list_com_even = [i for i in range(20) if(i%2==0)]\n",
    "print(list_com_even)"
   ]
  },
  {
   "cell_type": "markdown",
   "metadata": {
    "slideshow": {
     "slide_type": "subslide"
    }
   },
   "source": [
    "## 練習\n",
    "\n",
    "- 有一個字串為```「This is Python_Analysis_Class」```\n",
    "- 使用```list comprehension```將底線去除加入```name```的```list```中\n",
    "- 輸出：```['T', 'h', 'i', 's', ' ', 'i', 's', ' ', 'P', 'y', 't', 'h', 'o', 'n', 'A', 'n', 'a', 'l', 'y', 's', 'i', 's', 'C', 'l', 'a', 's', 's']```"
   ]
  },
  {
   "cell_type": "markdown",
   "metadata": {
    "slideshow": {
     "slide_type": "subslide"
    }
   },
   "source": [
    "## list comprehension 搭配 if..else判斷式\n",
    "\n",
    "```\n",
    "variable = [expression if expression else expression for value in iterator]\n",
    "```"
   ]
  },
  {
   "cell_type": "code",
   "execution_count": 44,
   "metadata": {
    "slideshow": {
     "slide_type": "subslide"
    }
   },
   "outputs": [
    {
     "name": "stdout",
     "output_type": "stream",
     "text": [
      "[6, 60, 80, 64, 2, 5, 50, 75, 7, 9]\n",
      "['<10', '>10', '>10', '>10', '<10', '<10', '>10', '>10', '<10', '<10']\n"
     ]
    }
   ],
   "source": [
    "## 範例\n",
    "\n",
    "rand_num = [6, 60, 80, 64, 2, 5, 50, 75, 7, 9] \n",
    "num = [\">10\" if(i>10) else \"<10\" for i in rand_num]\n",
    "print(rand_num)\n",
    "print(num)"
   ]
  },
  {
   "cell_type": "markdown",
   "metadata": {
    "slideshow": {
     "slide_type": "subslide"
    }
   },
   "source": [
    "## 練習\n",
    "\n",
    "- 隨機產生一個10個數(介於1~100)的list，並取名為rand_num\n",
    "- 判斷rand_num中的元素，若為基數則在odd_even list中增加odd字樣、若為偶數則在odd_even list中增加even字樣"
   ]
  },
  {
   "cell_type": "markdown",
   "metadata": {
    "slideshow": {
     "slide_type": "subslide"
    }
   },
   "source": [
    "## break 與 continue\n",
    "\n",
    "- ```break```:強制離開迴圈\n",
    "- ```continue```:強制離開這次迭代"
   ]
  },
  {
   "cell_type": "code",
   "execution_count": 106,
   "metadata": {
    "slideshow": {
     "slide_type": "subslide"
    }
   },
   "outputs": [
    {
     "name": "stdout",
     "output_type": "stream",
     "text": [
      "隨機產生的list :  [18, 27, 78, 38, 20, 70, 81, 33, 58, 65]\n",
      "如果是5的倍數則不輸出 : 18 27 78 38 81 33 58 \n",
      "如果遇到5的倍數則停止輸出 : 18 27 78 38 "
     ]
    }
   ],
   "source": [
    "# 範例\n",
    "\n",
    "import random\n",
    "rand_num = [random.randint(0, 100) for i in range(10)]\n",
    "print(\"隨機產生的list : \" ,rand_num)\n",
    "print(\"如果是5的倍數則不輸出 : \", end=\"\")\n",
    "for i in rand_num:\n",
    "    if(i%5==0):\n",
    "        continue\n",
    "    else:\n",
    "        print(i, end=\" \")\n",
    "print()\n",
    "print(\"如果遇到5的倍數則停止輸出 : \", end=\"\")\n",
    "for i in rand_num:\n",
    "    if(i%5==0):\n",
    "        break\n",
    "    else:\n",
    "        print(i, end=\" \")"
   ]
  },
  {
   "cell_type": "markdown",
   "metadata": {
    "slideshow": {
     "slide_type": "subslide"
    }
   },
   "source": [
    "## 基礎while迴圈\n",
    "```python\n",
    " while(條件判斷):\n",
    "     程式區塊\n",
    "```"
   ]
  },
  {
   "cell_type": "code",
   "execution_count": 107,
   "metadata": {
    "slideshow": {
     "slide_type": "subslide"
    }
   },
   "outputs": [
    {
     "name": "stdout",
     "output_type": "stream",
     "text": [
      "請輸入一個數字3\n",
      "該數為基數\n",
      "請輸入一個數字8\n",
      "該數為偶數\n",
      "請輸入一個數字q\n"
     ]
    }
   ],
   "source": [
    "# 範例\n",
    "\n",
    "while(True):\n",
    "    num = input(\"請輸入一個數字\")\n",
    "    if(num == \"q\"):\n",
    "        break\n",
    "    else:\n",
    "        num = int(num)\n",
    "        if(num%2 ==0):\n",
    "            print(\"該數為偶數\")\n",
    "        else:\n",
    "            print(\"該數為基數\")"
   ]
  },
  {
   "cell_type": "markdown",
   "metadata": {
    "slideshow": {
     "slide_type": "slide"
    }
   },
   "source": [
    "## 再談資料結構\n",
    "\n"
   ]
  },
  {
   "cell_type": "markdown",
   "metadata": {
    "slideshow": {
     "slide_type": "subslide"
    }
   },
   "source": [
    "## Python原生資料結構\n",
    "\n",
    "- list\n",
    "- tuple\n",
    "- dictionary\n",
    "- set"
   ]
  },
  {
   "cell_type": "markdown",
   "metadata": {
    "slideshow": {
     "slide_type": "subslide"
    }
   },
   "source": [
    "## tuple\n",
    "\n",
    "- tuple不可新增、刪除、修改元素\n",
    "- 欲刪除tuple元素，可先以list()轉型tuple結構\n",
    "- tuple常用方法len(), count(), max(), min()\n",
    "- 強制轉換為元組使用tuple()"
   ]
  },
  {
   "cell_type": "code",
   "execution_count": null,
   "metadata": {
    "slideshow": {
     "slide_type": "subslide"
    }
   },
   "outputs": [],
   "source": [
    "# 範例(猜執行結果)\n",
    "\n",
    "num = (10)\n",
    "print(num[0])\n",
    "print(len(num))\n",
    "num.append(100)\n",
    "print(num)"
   ]
  },
  {
   "cell_type": "markdown",
   "metadata": {
    "slideshow": {
     "slide_type": "subslide"
    }
   },
   "source": [
    "## enumerate函數\n",
    "\n"
   ]
  },
  {
   "cell_type": "code",
   "execution_count": 126,
   "metadata": {
    "slideshow": {
     "slide_type": "subslide"
    }
   },
   "outputs": [
    {
     "name": "stdout",
     "output_type": "stream",
     "text": [
      "[22, 12, 22, 21, 12, 18, 25, 19, 12, 22]\n"
     ]
    }
   ],
   "source": [
    "# 範例(猜num print的結果)\n",
    "import random\n",
    "\n",
    "rand_num = [random.randint(10, 30) for i in range(10)]\n",
    "print(rand_num)\n",
    "num = [(i, j) for i, j in enumerate(rand_num, 100)]\n",
    "print(num)"
   ]
  },
  {
   "cell_type": "markdown",
   "metadata": {
    "slideshow": {
     "slide_type": "subslide"
    }
   },
   "source": [
    "## zip 函數\n",
    "\n"
   ]
  },
  {
   "cell_type": "code",
   "execution_count": 127,
   "metadata": {
    "slideshow": {
     "slide_type": "subslide"
    }
   },
   "outputs": [
    {
     "name": "stdout",
     "output_type": "stream",
     "text": [
      "[('name', 'John'), ('age', 29), ('gender', '男')]\n"
     ]
    }
   ],
   "source": [
    "fields = [\"name\", \"age\", \"gender\"]\n",
    "values = [\"John\", 29, \"男\"]\n",
    "\n",
    "profile = [(field, value) for field, value in zip(fields, values)]\n",
    "print(profile)"
   ]
  },
  {
   "cell_type": "markdown",
   "metadata": {
    "slideshow": {
     "slide_type": "subslide"
    }
   },
   "source": [
    "## dictionary\n",
    "\n",
    "```python\n",
    "    dict = {\n",
    "        key1:value1,\n",
    "        key2:value2,\n",
    "        key3:value3\n",
    "        ...\n",
    "        ...\n",
    "    }\n",
    "```"
   ]
  },
  {
   "cell_type": "code",
   "execution_count": null,
   "metadata": {
    "slideshow": {
     "slide_type": "subslide"
    }
   },
   "outputs": [],
   "source": [
    "# 範例(猜執行結果)\n",
    "fields = [\"name\", \"age\", \"gender\"]\n",
    "values = [\"John\", 29, \"男\"]\n",
    "\n",
    "profile_dict = {}\n",
    "for field, value in zip(fields, values):\n",
    "    profile_dict[field] = value\n",
    "for value in profile_dict.keys():\n",
    "    print(profile_dict[value], end=\" \")"
   ]
  },
  {
   "cell_type": "code",
   "execution_count": null,
   "metadata": {
    "slideshow": {
     "slide_type": "subslide"
    }
   },
   "outputs": [],
   "source": [
    "# 範例(猜執行結果)\n",
    "fields = [\"name\", \"age\", \"gender\"]\n",
    "values = [\"John\", 29, \"男\"]\n",
    "\n",
    "profile_one_dict = {}\n",
    "for field, value in zip(fields, values):\n",
    "    profile_one_dict[field] = value\n",
    "profile_two_dict = profile_one_dict\n",
    "profile_two_dict[\"gender\"] = \"女\"\n",
    "print(profile_one_dict)"
   ]
  },
  {
   "cell_type": "markdown",
   "metadata": {
    "slideshow": {
     "slide_type": "subslide"
    }
   },
   "source": [
    "## 練習\n",
    "\n",
    "- 有一個字典如下\n",
    "```\n",
    "profile1 = {\n",
    "            \"Mary\":{\"Chinese\":80, \"English\":70},\n",
    "            \"Eric\":{\"Chinese\":77, \"English\":88},\n",
    "            \"Richard\":{\"Chinese\":60, \"English\":60}\n",
    "           }\n",
    "```\n",
    "- 使用 ```list comprehension``` 將每個```user```的```chinese```與```english```分數取出\n",
    "- 計算```chinese```分數的平均分數以及```english```分數的平均，並取到小數第一位"
   ]
  },
  {
   "cell_type": "markdown",
   "metadata": {
    "slideshow": {
     "slide_type": "slide"
    }
   },
   "source": [
    "## 練習\n",
    "\n",
    "- 有個字典如下：\n",
    "```\n",
    "class_math = {\n",
    "    \"Math\" : [60, 65, 80, 92],\n",
    "    \"English\" : [88, 68, 66, 30],\n",
    "    \"Chinese\" : [88, 66, 55, 90]\n",
    "}\n",
    "```\n",
    "\n",
    "- 使用```list comprehension```建構一個```score```的```list```, 該```list```包含三個科目的平均分數"
   ]
  },
  {
   "cell_type": "markdown",
   "metadata": {
    "slideshow": {
     "slide_type": "subslide"
    }
   },
   "source": [
    "## set\n",
    "\n"
   ]
  },
  {
   "cell_type": "markdown",
   "metadata": {
    "slideshow": {
     "slide_type": "subslide"
    }
   },
   "source": [
    "## 基礎 set\n",
    "```\n",
    "set = {val1, val2, val3}\n",
    "```\n",
    "- 集合的特性：去除重複值\n",
    "- 新增```set```元素\n",
    "```\n",
    "    set.add(value)\n",
    "    ```"
   ]
  },
  {
   "cell_type": "code",
   "execution_count": 144,
   "metadata": {
    "slideshow": {
     "slide_type": "subslide"
    }
   },
   "outputs": [
    {
     "name": "stdout",
     "output_type": "stream",
     "text": [
      "{'Python', 'Java', 'Perl', 'C#', 'T-SQL'}\n"
     ]
    }
   ],
   "source": [
    "# 範例\n",
    "\n",
    "language = {\"Java\", \"Python\", \"C#\"}\n",
    "language.add(\"Java\")\n",
    "language.add(\"Perl\")\n",
    "language.add(\"T-SQL\")\n",
    "print(language)"
   ]
  },
  {
   "cell_type": "code",
   "execution_count": null,
   "metadata": {
    "slideshow": {
     "slide_type": "subslide"
    }
   },
   "outputs": [],
   "source": [
    "# 範例(猜執行結果)\n",
    "\n",
    "language = {}\n",
    "language.add(\"C#\")\n",
    "language.add(\"Java\")\n",
    "language.add(\"C#\")\n",
    "language.add(\"Python\")\n",
    "language.add(\"C\")\n",
    "print(language)"
   ]
  }
 ],
 "metadata": {
  "celltoolbar": "Slideshow",
  "kernelspec": {
   "display_name": "Python 3",
   "language": "python",
   "name": "python3"
  },
  "language_info": {
   "codemirror_mode": {
    "name": "ipython",
    "version": 3
   },
   "file_extension": ".py",
   "mimetype": "text/x-python",
   "name": "python",
   "nbconvert_exporter": "python",
   "pygments_lexer": "ipython3",
   "version": "3.7.4"
  }
 },
 "nbformat": 4,
 "nbformat_minor": 4
}
